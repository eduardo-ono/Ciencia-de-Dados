{
 "cells": [
  {
   "cell_type": "markdown",
   "id": "fbcccc5f-492c-4bd5-a3e6-bf89d516c296",
   "metadata": {
    "tags": []
   },
   "source": [
    "> Ciência de Dados > Conteúdo > Python\n",
    "\n",
    "# Fundamentos da Linguagem\n",
    "\n",
    "Prof. Eduardo Ono"
   ]
  },
  {
   "cell_type": "markdown",
   "id": "11040364-4a7f-41b1-9b51-19a5856e45a0",
   "metadata": {
    "tags": []
   },
   "source": [
    "## Hello World!"
   ]
  },
  {
   "cell_type": "code",
   "execution_count": 6,
   "id": "8ae69ea7-c116-4e61-8e04-ff2fcf215269",
   "metadata": {},
   "outputs": [
    {
     "name": "stdout",
     "output_type": "stream",
     "text": [
      "Olá mundo!\n"
     ]
    }
   ],
   "source": [
    "print('Olá mundo!')"
   ]
  },
  {
   "cell_type": "markdown",
   "id": "88bbdc57-6299-48c2-8331-fe18ba6ecb87",
   "metadata": {},
   "source": [
    "## Comentários\n"
   ]
  },
  {
   "cell_type": "code",
   "execution_count": 1,
   "id": "6d96e3f3-fc92-430f-90b8-25c319efa40c",
   "metadata": {},
   "outputs": [],
   "source": [
    "# Isto é um comentário"
   ]
  },
  {
   "cell_type": "markdown",
   "id": "6b698ce3-3848-45cb-87f6-18789f5880c5",
   "metadata": {},
   "source": [
    "## Variáveis"
   ]
  },
  {
   "cell_type": "code",
   "execution_count": 7,
   "id": "3e0f507c-f9f4-4fea-912c-cbdb83eec9db",
   "metadata": {},
   "outputs": [
    {
     "name": "stdout",
     "output_type": "stream",
     "text": [
      "5.0\n"
     ]
    }
   ],
   "source": [
    "import math\n",
    "\n",
    "cateto1 = 3\n",
    "cateto2 = 4\n",
    "hipotenusa = math.sqrt(cateto1 ** 2 + cateto2 ** 2)\n",
    "print(hipotenusa)"
   ]
  },
  {
   "cell_type": "markdown",
   "id": "5fb96443-a862-4ba5-8f18-d3109b33ad62",
   "metadata": {},
   "source": [
    "## Entrada"
   ]
  },
  {
   "cell_type": "code",
   "execution_count": 10,
   "id": "ff443b8e-1f4a-4b7f-a055-c8b1de7e2b8f",
   "metadata": {},
   "outputs": [
    {
     "name": "stdin",
     "output_type": "stream",
     "text": [
      "Digite o seu nome:  Eduardo\n",
      "Entre com o seu peso em kg:  70\n",
      "Entre com a sua altura em m:  1.7\n"
     ]
    },
    {
     "name": "stdout",
     "output_type": "stream",
     "text": [
      "24.221453287197235\n"
     ]
    }
   ],
   "source": [
    "nome = input('Digite o seu nome: ')\n",
    "peso = float(input('Entre com o seu peso em kg: '))\n",
    "altura = float(input('Entre com a sua altura em m: '))\n",
    "imc = peso / (altura ** 2)\n",
    "print(imc)"
   ]
  },
  {
   "cell_type": "code",
   "execution_count": null,
   "id": "b2b685c6-e3c6-4f82-926f-82fd5e0c4f92",
   "metadata": {},
   "outputs": [],
   "source": []
  }
 ],
 "metadata": {
  "kernelspec": {
   "display_name": "Python 3 (ipykernel)",
   "language": "python",
   "name": "python3"
  },
  "language_info": {
   "codemirror_mode": {
    "name": "ipython",
    "version": 3
   },
   "file_extension": ".py",
   "mimetype": "text/x-python",
   "name": "python",
   "nbconvert_exporter": "python",
   "pygments_lexer": "ipython3",
   "version": "3.9.7"
  }
 },
 "nbformat": 4,
 "nbformat_minor": 5
}
