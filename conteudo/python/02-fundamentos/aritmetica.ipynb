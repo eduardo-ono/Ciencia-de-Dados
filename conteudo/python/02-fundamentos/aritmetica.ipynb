{
 "cells": [
  {
   "cell_type": "markdown",
   "id": "fbcccc5f-492c-4bd5-a3e6-bf89d516c296",
   "metadata": {
    "tags": []
   },
   "source": [
    "> Ciência de Dados > Conteúdo > Python\n",
    "\n",
    "# Fundamentos da Linguagem\n",
    "\n",
    "Prof. Eduardo Ono"
   ]
  },
  {
   "cell_type": "markdown",
   "id": "11040364-4a7f-41b1-9b51-19a5856e45a0",
   "metadata": {
    "tags": []
   },
   "source": [
    "## Hello World!"
   ]
  },
  {
   "cell_type": "code",
   "execution_count": 16,
   "id": "8ae69ea7-c116-4e61-8e04-ff2fcf215269",
   "metadata": {},
   "outputs": [
    {
     "name": "stdout",
     "output_type": "stream",
     "text": [
      "Olá mundo!\n",
      "Olá mundo!\n",
      "Olá mundo!\n"
     ]
    }
   ],
   "source": [
    "# Isto é um comentário\n",
    "print('Olá mundo!')\n",
    "# ou\n",
    "print(\"Olá mundo!\")\n",
    "# ou\n",
    "mensagem = 'Olá mundo!'\n",
    "print(mensagem)"
   ]
  },
  {
   "cell_type": "markdown",
   "id": "6b698ce3-3848-45cb-87f6-18789f5880c5",
   "metadata": {},
   "source": [
    "## Variáveis"
   ]
  },
  {
   "cell_type": "code",
   "execution_count": 14,
   "id": "3e0f507c-f9f4-4fea-912c-cbdb83eec9db",
   "metadata": {},
   "outputs": [
    {
     "name": "stdout",
     "output_type": "stream",
     "text": [
      "Hipotenusa = 5.0\n",
      "Hipotenusa = 5.0\n"
     ]
    }
   ],
   "source": [
    "import math\n",
    "\n",
    "cateto1 = 3\n",
    "cateto2 = 4\n",
    "hipotenusa = math.sqrt(cateto1 ** 2 + cateto2 ** 2)\n",
    "print('Hipotenusa =', hipotenusa)\n",
    "# ou\n",
    "print('Hipotenusa = ', end='')\n",
    "print(hipotenusa)"
   ]
  },
  {
   "cell_type": "markdown",
   "id": "5fb96443-a862-4ba5-8f18-d3109b33ad62",
   "metadata": {},
   "source": [
    "## Entrada/Saída\n",
    "\n",
    "* https://pythonguides.com/python-print-2-decimal-places/"
   ]
  },
  {
   "cell_type": "code",
   "execution_count": 19,
   "id": "ff443b8e-1f4a-4b7f-a055-c8b1de7e2b8f",
   "metadata": {},
   "outputs": [
    {
     "name": "stdout",
     "output_type": "stream",
     "text": [
      "Nome:  Fulano de Tal\n",
      "Peso =  70.0 kg\n",
      "Altura =  1.69 m\n",
      "IMC = 24.5\n",
      "IMC =  24.51\n",
      "IMC = 24.51\n"
     ]
    }
   ],
   "source": [
    "# Entrada\n",
    "nome = input('Digite o seu nome: ')\n",
    "peso = float(input('Entre com o seu peso em kg: '))\n",
    "altura = float(input('Entre com a sua altura em m: '))\n",
    "\n",
    "# Processamento: imc = peso / (altura * altura)\n",
    "imc = peso / altura ** 2\n",
    "\n",
    "# Saída\n",
    "print('Nome: ', nome)\n",
    "print('Peso = ', peso, 'kg')\n",
    "print('Altura = ', altura, 'm')\n",
    "print('IMC = %.1f' %imc)\n",
    "print('IMC = ', '{0:.2f}'.format(imc))\n",
    "print('IMC =', round(imc, 2))"
   ]
  }
 ],
 "metadata": {
  "interpreter": {
   "hash": "fb337862b7d0eb6009f4301072670aeaaa59a114df2dee25a9e13dada0a816e8"
  },
  "kernelspec": {
   "display_name": "Python 3.9.7 64-bit ('base': conda)",
   "name": "python3"
  },
  "language_info": {
   "codemirror_mode": {
    "name": "ipython",
    "version": 3
   },
   "file_extension": ".py",
   "mimetype": "text/x-python",
   "name": "python",
   "nbconvert_exporter": "python",
   "pygments_lexer": "ipython3",
   "version": "3.9.7"
  }
 },
 "nbformat": 4,
 "nbformat_minor": 5
}
