{
 "cells": [
  {
   "cell_type": "markdown",
   "id": "7f823941-599b-4af2-88b4-61a2d3034cc2",
   "metadata": {},
   "source": [
    "> Ciência de Dados > Conteúdo > Python\n",
    "\n",
    "# Estruturas de Repetição\n",
    "\n",
    "Prof. Eduardo Ono"
   ]
  },
  {
   "cell_type": "markdown",
   "metadata": {},
   "source": [
    "## for"
   ]
  },
  {
   "cell_type": "markdown",
   "id": "db899190-e808-4650-b046-d4cf9b998de5",
   "metadata": {},
   "source": [
    "## while"
   ]
  },
  {
   "cell_type": "code",
   "execution_count": 2,
   "id": "3f206d51-6daf-4a46-9392-c56a99e512bb",
   "metadata": {},
   "outputs": [
    {
     "name": "stdout",
     "output_type": "stream",
     "text": [
      "Olá mundo!\n",
      "Olá mundo!\n",
      "Olá mundo!\n",
      "Olá mundo!\n",
      "Olá mundo!\n",
      "0 1 2 3 4 5 6 7 8 9 "
     ]
    }
   ],
   "source": [
    "i = 0\n",
    "while i < 5:\n",
    "    print('Olá mundo!')\n",
    "    i = i + 1\n",
    "    \n",
    "i = 0\n",
    "while i < 10:\n",
    "    print(i, '', end = '')\n",
    "    i = i + 1"
   ]
  }
 ],
 "metadata": {
  "interpreter": {
   "hash": "fb337862b7d0eb6009f4301072670aeaaa59a114df2dee25a9e13dada0a816e8"
  },
  "kernelspec": {
   "display_name": "Python 3.9.7 64-bit ('base': conda)",
   "name": "python3"
  },
  "language_info": {
   "codemirror_mode": {
    "name": "ipython",
    "version": 3
   },
   "file_extension": ".py",
   "mimetype": "text/x-python",
   "name": "python",
   "nbconvert_exporter": "python",
   "pygments_lexer": "ipython3",
   "version": "3.9.7"
  }
 },
 "nbformat": 4,
 "nbformat_minor": 5
}
