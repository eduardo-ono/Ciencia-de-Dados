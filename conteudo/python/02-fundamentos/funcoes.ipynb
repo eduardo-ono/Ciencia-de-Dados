{
 "cells": [
  {
   "cell_type": "markdown",
   "metadata": {},
   "source": [
    "<h1 align=center>\n",
    "Funções Definidas pelo Usuário\n",
    "</h1>\n",
    "\n",
    "<h4 align=center>\n",
    "Prof. Eduardo Ono\n",
    "</h4>\n",
    "\n",
    "<br>"
   ]
  },
  {
   "cell_type": "markdown",
   "metadata": {},
   "source": [
    "## Funções Nomeadas (\"tradicionais\")"
   ]
  },
  {
   "cell_type": "code",
   "execution_count": 11,
   "metadata": {},
   "outputs": [
    {
     "name": "stdout",
     "output_type": "stream",
     "text": [
      "Olá Mundo!\n"
     ]
    }
   ],
   "source": [
    "# Função que imprime \"Olá Mundo!\".\n",
    "\n",
    "def olaMundo():\n",
    "    print('Olá Mundo!')\n",
    "\n",
    "olaMundo()"
   ]
  },
  {
   "cell_type": "code",
   "execution_count": 12,
   "metadata": {},
   "outputs": [
    {
     "name": "stdout",
     "output_type": "stream",
     "text": [
      "Olá Mundo!\n"
     ]
    }
   ],
   "source": [
    "# Função que retorna 'Olá Mundo'.\n",
    "\n",
    "def olaMundo():\n",
    "    return 'Olá Mundo!'\n",
    "\n",
    "print(olaMundo())"
   ]
  },
  {
   "cell_type": "code",
   "execution_count": 13,
   "metadata": {},
   "outputs": [
    {
     "name": "stdout",
     "output_type": "stream",
     "text": [
      "IMC = 23.510204081632654\n",
      "IMC =  23.5\n"
     ]
    }
   ],
   "source": [
    "def imc(peso, altura):\n",
    "    return peso / altura ** 2\n",
    "\n",
    "print('IMC =', imc(72, 1.75))\n",
    "print('IMC = ', '{:.1f}'.format(imc(72, 1.75)))"
   ]
  },
  {
   "cell_type": "markdown",
   "metadata": {},
   "source": [
    "<br>\n",
    "\n",
    "## Funções Anônimas"
   ]
  },
  {
   "cell_type": "code",
   "execution_count": 14,
   "metadata": {},
   "outputs": [
    {
     "name": "stdout",
     "output_type": "stream",
     "text": [
      "Olá Mundo!\n"
     ]
    }
   ],
   "source": [
    "ola_mundo = lambda : print('Olá Mundo!')\n",
    "\n",
    "ola_mundo()"
   ]
  },
  {
   "cell_type": "code",
   "execution_count": 15,
   "metadata": {},
   "outputs": [
    {
     "name": "stdout",
     "output_type": "stream",
     "text": [
      "Olá Mundo!\n"
     ]
    }
   ],
   "source": [
    "ola_mundo = lambda : 'Olá Mundo!'\n",
    "\n",
    "print(ola_mundo())"
   ]
  },
  {
   "cell_type": "code",
   "execution_count": 16,
   "metadata": {},
   "outputs": [
    {
     "name": "stdout",
     "output_type": "stream",
     "text": [
      "IMC =  23.5\n"
     ]
    }
   ],
   "source": [
    "imc = lambda peso, altura : peso / altura ** 2\n",
    "\n",
    "print('IMC = ', '{:.1f}'.format(imc(72, 1.75)))"
   ]
  },
  {
   "cell_type": "code",
   "execution_count": null,
   "metadata": {},
   "outputs": [],
   "source": []
  },
  {
   "cell_type": "markdown",
   "metadata": {},
   "source": [
    "<br>\n",
    "\n",
    "## Parâmetros Nomeados"
   ]
  },
  {
   "cell_type": "code",
   "execution_count": 17,
   "metadata": {},
   "outputs": [
    {
     "name": "stdout",
     "output_type": "stream",
     "text": [
      "23.25501863821347\n",
      "23.25501863821347\n",
      "0.0003698096885813149\n",
      "23.25501863821347\n",
      "23.25501863821347\n",
      "23.25501863821347\n",
      "23.25501863821347\n"
     ]
    }
   ],
   "source": [
    "def calcularImc(peso, altura):\n",
    "    return peso / altura ** 2\n",
    "\n",
    "peso = 68\n",
    "altura = 1.71\n",
    "print(calcularImc(68, 1.71))\n",
    "print(calcularImc(peso, altura))\n",
    "print(calcularImc(altura, peso)) # ERRO semântico! O mesmo que \"print(calcularImc(1.71, 68))\"\n",
    "\n",
    "# Parâmetros nomeados:\n",
    "print(calcularImc(peso=68, altura=1.71))\n",
    "print(calcularImc(altura=1.71, peso=68))\n",
    "print(calcularImc(peso=peso, altura=altura))\n",
    "print(calcularImc(altura=altura, peso=peso))"
   ]
  },
  {
   "cell_type": "markdown",
   "metadata": {},
   "source": [
    "<br>\n",
    "\n",
    "## Parâmetros Opcionais"
   ]
  },
  {
   "cell_type": "code",
   "execution_count": 21,
   "metadata": {},
   "outputs": [
    {
     "name": "stdout",
     "output_type": "stream",
     "text": [
      "Peso = 68 kg\n",
      "Altura = 1.71 m\n",
      "IMC = 23.3\n",
      "Peso = 68 kg\n",
      "Altura = 1.71 metros\n",
      "IMC = 23.3\n"
     ]
    }
   ],
   "source": [
    "def calcularImc(peso, altura, unidade_peso='kg', unidade_altura='m'):\n",
    "    imc = peso / altura ** 2\n",
    "    print('Peso =', peso, unidade_peso)\n",
    "    print('Altura =', altura, unidade_altura)\n",
    "    print('IMC =', '{:.1f}'.format(imc))\n",
    "\n",
    "calcularImc(68, 1.71)\n",
    "calcularImc(68, 1.71, unidade_altura='metros')"
   ]
  },
  {
   "cell_type": "code",
   "execution_count": 27,
   "metadata": {},
   "outputs": [
    {
     "name": "stdout",
     "output_type": "stream",
     "text": [
      "Peso = 68 kg\n",
      "Altura = 1.71 m\n",
      "IMC =  23.3\n",
      "Peso = 68 kg\n",
      "Altura = 1.71 metros\n",
      "IMC =  23.3\n"
     ]
    }
   ],
   "source": [
    "# Usando f-strings:\n",
    "\n",
    "def calcularImc(peso, altura, unidade_peso='kg', unidade_altura='m'):\n",
    "    imc = peso / altura ** 2\n",
    "    print(f'Peso = {peso} {unidade_peso}')\n",
    "    print(f'Altura = {altura} {unidade_altura}')\n",
    "    print('IMC = ', '{:.1f}'.format(imc))\n",
    "\n",
    "calcularImc(68, 1.71)\n",
    "calcularImc(68, 1.71, unidade_altura='metros')"
   ]
  },
  {
   "cell_type": "code",
   "execution_count": 39,
   "metadata": {},
   "outputs": [
    {
     "name": "stdout",
     "output_type": "stream",
     "text": [
      "4.1866666666666665 cm^3\n",
      "4.1888 m^3\n",
      "4.1888 m^3\n",
      "4.1888 m^3\n"
     ]
    }
   ],
   "source": [
    "# Calcula o volume de uma esfera\n",
    "\n",
    "def calcularVolume(raio, pi=3.14, unidade='cm^3'):\n",
    "    volume = 4 / 3 * pi * raio ** 3\n",
    "    return str(volume) + ' ' + unidade\n",
    "\n",
    "volume = calcularVolume(1)\n",
    "print(volume)\n",
    "volume = calcularVolume(1, 3.1416, 'm^3')\n",
    "print(volume)\n",
    "volume = calcularVolume(1, pi=3.1416, unidade='m^3')\n",
    "print(volume)\n",
    "volume = calcularVolume(1, unidade='m^3', pi=3.1416)\n",
    "print(volume)"
   ]
  },
  {
   "cell_type": "markdown",
   "metadata": {},
   "source": [
    "<br>\n",
    "\n",
    "## Referências\n",
    "\n",
    "* https://www.youtube.com/watch?v=UQVIb_X_dOk\n"
   ]
  }
 ],
 "metadata": {
  "kernelspec": {
   "display_name": "python3-datascience",
   "language": "python",
   "name": "python3-datascience"
  },
  "language_info": {
   "codemirror_mode": {
    "name": "ipython",
    "version": 3
   },
   "file_extension": ".py",
   "mimetype": "text/x-python",
   "name": "python",
   "nbconvert_exporter": "python",
   "pygments_lexer": "ipython3",
   "version": "3.9.13"
  },
  "orig_nbformat": 4
 },
 "nbformat": 4,
 "nbformat_minor": 2
}
