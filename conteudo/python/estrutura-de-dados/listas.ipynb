{
 "cells": [
  {
   "cell_type": "markdown",
   "metadata": {},
   "source": [
    "<h1 align=\"center\">\n",
    "Python - Listas\n",
    "</h1>\n",
    "\n",
    "<h4 align=\"center\">Prof. Eduardo Ono</h4>\n",
    "\n",
    "<br>"
   ]
  },
  {
   "cell_type": "markdown",
   "metadata": {},
   "source": [
    "| Thumb | Descrição |\n",
    "| :-: | --- |\n",
    "| [![img](https://img.youtube.com/vi/F7Orltrlknw/default.jpg)](https://www.youtube.com/watch?v=F7Orltrlknw) | <sup>[Curso de Python UFAC]</sup><br>[__Capítulo 7: Listas__](https://www.youtube.com/watch?v=F7Orltrlknw)<br><sub>(3:06:39, YouTube, Dez/2020)</sub>"
   ]
  }
 ],
 "metadata": {
  "language_info": {
   "name": "python"
  },
  "orig_nbformat": 4
 },
 "nbformat": 4,
 "nbformat_minor": 2
}
